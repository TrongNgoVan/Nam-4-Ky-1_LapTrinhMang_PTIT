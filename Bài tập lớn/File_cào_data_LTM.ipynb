{
  "cells": [
    {
      "cell_type": "code",
      "execution_count": 18,
      "metadata": {
        "id": "sRuKSySEIz1R",
        "colab": {
          "base_uri": "https://localhost:8080/"
        },
        "outputId": "17e9acb7-0269-4919-cc74-233020edc9c0"
      },
      "outputs": [
        {
          "output_type": "stream",
          "name": "stdout",
          "text": [
            "Dữ liệu đã được lưu vào exam_scores.csv\n"
          ]
        }
      ],
      "source": [
        "import requests  # Thư viện để thực hiện các yêu cầu HTTP\n",
        "from bs4 import BeautifulSoup  # Thư viện để phân tích cú pháp HTML\n",
        "import csv  # Thư viện để làm việc với tệp CSV\n",
        "\n",
        "base_url = 'http://203.162.10.109/search?txtKey='\n",
        "results = []\n",
        "\n",
        "for i in range(800, 900):\n",
        "    student_id = f'B21DCCN{i:03}'\n",
        "    url = f'{base_url}{student_id}'\n",
        "    response = requests.get(url)\n",
        "    if response.status_code == 200:  # Kiểm tra nếu yêu cầu thành công\n",
        "        soup = BeautifulSoup(response.text, 'html.parser')\n",
        "        rows = soup.find_all('tr')[1:]\n",
        "        for row in rows:\n",
        "            name_cell = row.find('td', {'data-label': 'Họ tên'})\n",
        "            subject_cell = row.find('td', {'data-label': 'Ghi chú'})\n",
        "            class_cell = row.find('td', {'data-label': 'Lớp'})\n",
        "            subject_group_cell = row.find('td', {'data-label': 'Nhóm môn học'})\n",
        "            score_cell = row.find('td', {'data-label': 'Kết quả'})\n",
        "            if subject_cell and score_cell:  # Kiểm tra nếu có thông tin môn học và điểm\n",
        "                subject = subject_cell.text.strip()  # Lấy tên môn học\n",
        "                score = score_cell.text.strip()  # Lấy điểm\n",
        "\n",
        "                if 'TCP' in subject:\n",
        "                    # Nếu tìm thấy, lấy thông tin của sinh viên\n",
        "                    name = name_cell.text.strip() if name_cell else 'Không tìm thấy'  # Tên sinh viên\n",
        "                    class_name = class_cell.text.strip() if class_cell else 'Không tìm thấy'  # Tên lớp\n",
        "                    subject_group = subject_group_cell.text.strip() if subject_group_cell else 'Không tìm thấy'  # Nhóm môn học\n",
        "                    # Lưu thông tin vào danh sách kết quả\n",
        "                    results.append({'name': name, 'student_id': student_id, 'class': class_name, 'subject_group': subject_group, 'score': score})\n",
        "                    break  # Ngừng tìm kiếm khi tìm thấy điểm TCP để không lưu thông tin lặp lại\n",
        "\n",
        "    else:\n",
        "        print(f'Lỗi khi truy cập {url}: {response.status_code}')  # In thông báo lỗi nếu không truy cập được\n",
        "\n",
        "# Ghi dữ liệu vào tệp CSV, chỉ ghi những sinh viên có điểm TCP\n",
        "with open('exam_scores.csv', 'w', newline='', encoding='utf-8') as csvfile:\n",
        "    fieldnames = ['STT', 'Họ tên', 'Mã sinh viên', 'Lớp', 'Nhóm môn học', 'Điểm thi']  # Định nghĩa các cột cho tệp CSV\n",
        "    writer = csv.DictWriter(csvfile, fieldnames=fieldnames)  # Tạo đối tượng viết CSV\n",
        "\n",
        "    writer.writeheader()  # Ghi tiêu đề vào tệp CSV\n",
        "    for idx, result in enumerate(results, start=1):  # Duyệt qua từng kết quả\n",
        "        # Ghi từng dòng dữ liệu vào tệp CSV\n",
        "        writer.writerow({\n",
        "            'STT': idx,\n",
        "            'Họ tên': result['name'],\n",
        "            'Mã sinh viên': result['student_id'],\n",
        "            'Lớp': result['class'],\n",
        "            'Nhóm môn học': result['subject_group'],\n",
        "            'Điểm thi': result['score']\n",
        "        })\n",
        "\n",
        "print(\"Dữ liệu đã được lưu vào exam_scores.csv\")  # Thông báo hoàn thành\n"
      ]
    }
  ],
  "metadata": {
    "colab": {
      "provenance": []
    },
    "kernelspec": {
      "display_name": "Python 3",
      "name": "python3"
    },
    "language_info": {
      "name": "python"
    }
  },
  "nbformat": 4,
  "nbformat_minor": 0
}